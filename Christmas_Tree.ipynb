{
  "nbformat": 4,
  "nbformat_minor": 0,
  "metadata": {
    "colab": {
      "name": "Christmas Tree.ipynb",
      "provenance": [],
      "authorship_tag": "ABX9TyMgpPdbk/LVrhrtGhA2RVmE",
      "include_colab_link": true
    },
    "kernelspec": {
      "name": "python3",
      "display_name": "Python 3"
    }
  },
  "cells": [
    {
      "cell_type": "markdown",
      "metadata": {
        "id": "view-in-github",
        "colab_type": "text"
      },
      "source": [
        "<a href=\"https://colab.research.google.com/github/vccalvin33/Christmas/blob/main/Christmas_Tree.ipynb\" target=\"_parent\"><img src=\"https://colab.research.google.com/assets/colab-badge.svg\" alt=\"Open In Colab\"/></a>"
      ]
    },
    {
      "cell_type": "code",
      "metadata": {
        "id": "2Z_8lnxH-29e"
      },
      "source": [
        "import numpy as np"
      ],
      "execution_count": 6,
      "outputs": []
    },
    {
      "cell_type": "code",
      "metadata": {
        "id": "Sdm0bJCUaT7Y"
      },
      "source": [
        "leaves = [\"⍣\", \"❄\", \"❄\", \"❄\", \"❄\",\"❄\",\"❄\",\"❄\",\"❄\",\"❄\",\"❄\",\"❄\",\"❄\",\"❄\",\"❄\",\"❄\",\"❄\",\"⭐\",\"🌠\",\"❄\",\"❄\",\"❄\",\"❄\",\"❄\"]"
      ],
      "execution_count": 12,
      "outputs": []
    },
    {
      "cell_type": "code",
      "metadata": {
        "id": "HWwzAt2KgUIa"
      },
      "source": [
        "def triangle(k, n, extra_space = 0):\n",
        "  spasi = 2*n-2\n",
        "  for i in range(1, n):\n",
        "    if i < k:\n",
        "      pass\n",
        "    else:\n",
        "      for space in range(int(spasi/2)+extra_space):\n",
        "        print(\"  \",end=\"\")\n",
        "      for a in range(2*n-1-(spasi)):\n",
        "        if k == 1 and i==1:\n",
        "          print(\"⭐ \", end = \"\")\n",
        "        else:\n",
        "          print(leaves[np.random.randint(0,len(leaves))]+\" \", end = \"\")\n",
        "      print()\n",
        "    spasi -= 2"
      ],
      "execution_count": 23,
      "outputs": []
    },
    {
      "cell_type": "code",
      "metadata": {
        "id": "0YLATDZP2RbP"
      },
      "source": [
        "def root(top_tree_width, height, width, extra_space):\n",
        "  for i in range(height):\n",
        "    for space in range(extra_space + int((2*(top_tree_width - width + 1)-2)/2)):\n",
        "      print(\"  \", end=\"\")\n",
        "    for a in range(width):\n",
        "      print(\"|||\", end = \"\")\n",
        "    print()"
      ],
      "execution_count": 51,
      "outputs": []
    },
    {
      "cell_type": "code",
      "metadata": {
        "id": "nhbBclBV2wYd"
      },
      "source": [
        "def christmas_tree(first_width, second_width, third_width, max_width, root_height, root_width):\n",
        "  triangle(1, first_width, max_width-first_width)\n",
        "  triangle(5, second_width, max_width-second_width)\n",
        "  triangle(10, third_width, max_width-third_width)\n",
        "  triangle(13, max_width)\n",
        "  root(first_width, root_height, root_width, max_width-first_width)"
      ],
      "execution_count": 53,
      "outputs": []
    },
    {
      "cell_type": "code",
      "metadata": {
        "id": "dBQPxEl8AQtU"
      },
      "source": [
        "m = [[\" \" for i in range(1, 6)] for j in range(1,6)]\n",
        "e = [[\" \" for i in range(1, 5)] for j in range(1,6)]\n",
        "r = [[\" \" for i in range(1, 5)] for j in range(1,6)]\n",
        "y = [[\" \" for i in range(1, 6)] for j in range(1,6)]\n",
        "\n",
        "c = [[\" \" for i in range(1, 5)] for j in range(1,6)]\n",
        "h = [[\" \" for i in range(1, 5)] for j in range(1,6)]\n",
        "print_i = [[\" \" for i in range(1, 4)] for j in range(1,6)]\n",
        "s = [[\" \" for i in range(1, 5)] for j in range(1,6)]\n",
        "t = [[\" \" for i in range(1, 6)] for j in range(1,6)]\n",
        "a = [[\" \" for i in range(1, 5)] for j in range(1,6)]"
      ],
      "execution_count": 180,
      "outputs": []
    },
    {
      "cell_type": "code",
      "metadata": {
        "id": "TBrb0Ci_BFRd"
      },
      "source": [
        "#M\n",
        "for row in range(1,6):\n",
        "  for col in range(1,6):\n",
        "    if col==1 or col==5:\n",
        "      m[row-1][col-1]=\"✱\"\n",
        "    elif ((col==2 or col==4) and row==2) or (col==3 and row==3):\n",
        "      m[row-1][col-1]=\"✱\"\n",
        "\n",
        "#E\n",
        "for row in range(1,6):\n",
        "  for col in range(1,5):\n",
        "    if col==1:\n",
        "      e[row-1][col-1]=\"✱\"\n",
        "    elif row==1 or row==3 or row==5:\n",
        "      e[row-1][col-1]=\"✱\"\n",
        "\n",
        "#R\n",
        "for row in range(1,6):\n",
        "  for col in range(1,5):\n",
        "    if col==1:\n",
        "      r[row-1][col-1]=\"✱\"\n",
        "    elif ((row==1 or row==3) and col!=4) or (row==2 and col==4) or (row==4 and col==2) or (row==5 and col==3):\n",
        "      r[row-1][col-1]=\"✱\"\n",
        "\n",
        "#Y\n",
        "for row in range(1,6):\n",
        "  for col in range(1,6):\n",
        "    if (col<4 and col==row) or (col==3 and row>=3) or (col>3 and row+col==6):\n",
        "      y[row-1][col-1]=\"✱\"\n",
        "\n",
        "#C\n",
        "for row in range(1,6):\n",
        "  for col in range(1,5):\n",
        "    if (col==1 and 1<row<5) or (row==1 and col>1) or (row==5 and col>1):\n",
        "      c[row-1][col-1]=\"✱\"\n",
        "\n",
        "#H\n",
        "for row in range(1,6):\n",
        "  for col in range(1,5):\n",
        "    if col==1 or col==4 or (row==3):\n",
        "      h[row-1][col-1]=\"✱\"\n",
        "\n",
        "#I\n",
        "for row in range(1,6):\n",
        "  for col in range(1,4):\n",
        "    if col==2:\n",
        "      print_i[row-1][col-1]=\"✱\"\n",
        "\n",
        "#S\n",
        "for row in range(1,6):\n",
        "  for col in range(1,5):\n",
        "    if ((row==1 or row==3 or row==5) and 1<col<4) or (row==2 and col==1) or (row==4 and col==4):\n",
        "      s[row-1][col-1]=\"✱\"\n",
        "\n",
        "#T\n",
        "for row in range(1,6):\n",
        "  for col in range(1,6):\n",
        "    if row==1 or col==3:\n",
        "      t[row-1][col-1]=\"✱\"\n",
        "\n",
        "#A\n",
        "for row in range(1,6):\n",
        "  for col in range(1,5):\n",
        "    if (row!=1 and (col==1 or col==4) or (row==1 and 1<col<4) or row==3):\n",
        "      a[row-1][col-1]=\"✱\""
      ],
      "execution_count": 182,
      "outputs": []
    },
    {
      "cell_type": "code",
      "metadata": {
        "colab": {
          "base_uri": "https://localhost:8080/"
        },
        "id": "0UKx1QQg5mpJ",
        "outputId": "86182045-023f-4e9d-d41f-98ac63189bbe"
      },
      "source": [
        "for i in range(5):\n",
        "  for j in range(5):\n",
        "    print(m[i][j], end = \" \")\n",
        "  print(end=\" \")\n",
        "  for j in range(4):\n",
        "    print(e[i][j], end = \" \")\n",
        "  print(end=\" \")\n",
        "  for j in range(4):\n",
        "    print(r[i][j], end = \" \")\n",
        "  print(end=\" \")\n",
        "  for j in range(4):\n",
        "    print(r[i][j], end = \" \")\n",
        "  print(end=\" \")\n",
        "  for j in range(5):\n",
        "    print(y[i][j], end = \" \")\n",
        "  print(end=\"     \")\n",
        "  for j in range(4):\n",
        "    print(c[i][j], end = \" \")\n",
        "  print(end=\" \")\n",
        "  for j in range(4):\n",
        "    print(h[i][j], end = \" \")\n",
        "  print(end=\" \")\n",
        "  for j in range(4):\n",
        "    print(r[i][j], end = \" \")\n",
        "  print(end=\"\")\n",
        "  for j in range(3):\n",
        "    print(print_i[i][j], end = \" \")\n",
        "  print(end=\" \")\n",
        "  for j in range(4):\n",
        "    print(s[i][j], end = \" \")\n",
        "  print(end=\" \")\n",
        "  for j in range(5):\n",
        "    print(t[i][j], end = \" \")\n",
        "  print(end=\" \")\n",
        "  for j in range(5):\n",
        "    print(m[i][j], end = \" \")\n",
        "  print(end=\" \")\n",
        "  for j in range(4):\n",
        "    print(a[i][j], end = \" \")\n",
        "  print(end=\" \")\n",
        "  for j in range(4):\n",
        "    print(s[i][j], end = \" \")\n",
        "  print()\n",
        "print()\n",
        "christmas_tree(10,13,17,23,7,4)"
      ],
      "execution_count": 185,
      "outputs": [
        {
          "output_type": "stream",
          "text": [
            "✱       ✱  ✱ ✱ ✱ ✱  ✱ ✱ ✱    ✱ ✱ ✱    ✱       ✱        ✱ ✱ ✱  ✱     ✱  ✱ ✱ ✱     ✱      ✱ ✱    ✱ ✱ ✱ ✱ ✱  ✱       ✱    ✱ ✱      ✱ ✱   \n",
            "✱ ✱   ✱ ✱  ✱        ✱     ✱  ✱     ✱    ✱   ✱        ✱        ✱     ✱  ✱     ✱   ✱    ✱            ✱      ✱ ✱   ✱ ✱  ✱     ✱  ✱       \n",
            "✱   ✱   ✱  ✱ ✱ ✱ ✱  ✱ ✱ ✱    ✱ ✱ ✱        ✱          ✱        ✱ ✱ ✱ ✱  ✱ ✱ ✱     ✱      ✱ ✱        ✱      ✱   ✱   ✱  ✱ ✱ ✱ ✱    ✱ ✱   \n",
            "✱       ✱  ✱        ✱ ✱      ✱ ✱          ✱          ✱        ✱     ✱  ✱ ✱       ✱          ✱      ✱      ✱       ✱  ✱     ✱        ✱ \n",
            "✱       ✱  ✱ ✱ ✱ ✱  ✱   ✱    ✱   ✱        ✱            ✱ ✱ ✱  ✱     ✱  ✱   ✱     ✱      ✱ ✱        ✱      ✱       ✱  ✱     ✱    ✱ ✱   \n",
            "\n",
            "                                            ⭐ \n",
            "                                          ❄ ❄ ❄ \n",
            "                                        ❄ ❄ ❄ ❄ ❄ \n",
            "                                      ❄ ❄ ❄ ❄ 🌠 ❄ ❄ \n",
            "                                    ❄ ❄ ❄ ❄ ❄ ❄ ❄ ❄ ❄ \n",
            "                                  ❄ ❄ ❄ ❄ ❄ ❄ ❄ ❄ ❄ ❄ ❄ \n",
            "                                ❄ ❄ ❄ ❄ ❄ ❄ ❄ ❄ ❄ ❄ ❄ ⭐ ❄ \n",
            "                              🌠 ❄ ❄ ❄ ❄ ❄ 🌠 ❄ ❄ ❄ ❄ ❄ ❄ ❄ ❄ \n",
            "                            ❄ ❄ ❄ ❄ ❄ ❄ ❄ ❄ ❄ ❄ ⭐ ❄ ❄ ❄ ❄ ❄ ⍣ \n",
            "                                    🌠 ❄ ❄ ❄ ❄ ❄ ❄ ❄ ❄ \n",
            "                                  ❄ ❄ ❄ ❄ ❄ ❄ ⭐ ❄ ❄ 🌠 ❄ \n",
            "                                ❄ ❄ ❄ ❄ ❄ ❄ ❄ ❄ ❄ ⭐ ❄ ❄ ❄ \n",
            "                              ❄ ❄ ❄ ❄ ⭐ ❄ ❄ ❄ ❄ ❄ ❄ ❄ ❄ ❄ ❄ \n",
            "                            ❄ ❄ ❄ ❄ ❄ ❄ ⭐ ❄ ❄ ❄ ❄ ❄ ❄ ❄ ❄ ❄ ❄ \n",
            "                          ⍣ ❄ ❄ ❄ ❄ ❄ ❄ ❄ ⍣ ❄ ❄ ❄ 🌠 ❄ ❄ ❄ 🌠 ❄ ❄ \n",
            "                        🌠 ❄ ❄ ❄ ❄ ❄ ❄ ❄ ❄ ❄ ❄ ❄ ⭐ ⍣ ❄ ❄ ❄ ❄ 🌠 ❄ ⭐ \n",
            "                      ❄ ❄ ❄ ❄ ❄ ⍣ ❄ ❄ ❄ 🌠 ❄ ❄ ❄ ❄ ❄ ❄ ❄ ❄ ❄ ❄ ❄ ❄ ❄ \n",
            "                          ❄ ❄ ❄ ❄ ❄ ❄ ❄ ❄ ❄ ❄ ❄ ❄ ❄ ❄ ❄ ❄ ❄ ❄ ❄ \n",
            "                        ❄ ❄ ❄ ❄ ❄ ❄ ❄ ❄ ❄ ❄ ❄ ❄ ❄ ⍣ ⭐ ❄ ❄ ❄ ⍣ ❄ ❄ \n",
            "                      ❄ ⍣ ❄ ❄ ❄ ❄ ❄ ❄ ❄ ❄ ❄ ❄ ❄ ❄ ❄ ❄ ❄ ❄ 🌠 ❄ ❄ ❄ ❄ \n",
            "                    ❄ ❄ ❄ ⭐ ❄ ❄ ❄ ❄ 🌠 ❄ ❄ 🌠 ❄ ❄ ❄ ❄ ❄ ❄ ❄ ❄ ❄ 🌠 ❄ ❄ ❄ \n",
            "                  ❄ ❄ 🌠 ❄ ❄ ❄ ❄ ❄ ❄ ❄ ❄ ❄ ❄ ❄ ❄ ❄ ❄ ⍣ ❄ ❄ ❄ ❄ ⍣ ❄ ❄ ❄ ❄ \n",
            "                ❄ ❄ ❄ ❄ 🌠 ❄ ❄ ❄ ❄ ❄ ❄ ❄ ❄ ❄ ❄ 🌠 ❄ ❄ ❄ ❄ ⍣ ⭐ ❄ ❄ ❄ ⭐ ❄ ❄ ❄ \n",
            "              ❄ ❄ ❄ ❄ ❄ ❄ ❄ ❄ ❄ ❄ ❄ ❄ ❄ ❄ ❄ ❄ ❄ ❄ ❄ ❄ ❄ 🌠 ❄ ❄ ❄ ⭐ ⍣ ❄ ❄ ❄ ❄ \n",
            "                    ❄ ❄ ❄ ⍣ ⭐ ❄ ⭐ ❄ ❄ ❄ ❄ 🌠 ❄ ❄ 🌠 ❄ ❄ ⭐ ❄ ⭐ ❄ ❄ ❄ ❄ ❄ \n",
            "                  ⍣ ❄ ❄ ❄ ❄ ❄ ❄ ❄ ❄ ❄ ❄ ⍣ ❄ ❄ ❄ ❄ ⭐ ❄ 🌠 ❄ ❄ ❄ ❄ ❄ ❄ ❄ ❄ \n",
            "                ⍣ ❄ ❄ ❄ ❄ ❄ ❄ ❄ ⭐ ❄ ❄ ❄ ❄ ❄ ❄ ❄ ❄ ❄ ❄ ❄ ❄ ❄ ❄ ❄ ❄ ❄ ⭐ ❄ ❄ \n",
            "              ❄ ❄ ❄ ⭐ ❄ ❄ ❄ ❄ ❄ ❄ 🌠 ❄ ❄ ❄ ❄ ❄ ❄ ❄ ❄ ❄ ❄ ❄ ⍣ ❄ ❄ ⍣ ❄ ❄ ❄ ❄ ⭐ \n",
            "            ⍣ ❄ ❄ ❄ ❄ ❄ ❄ 🌠 ❄ ❄ ❄ ❄ ❄ ❄ ❄ ❄ ❄ ❄ ❄ ❄ ❄ ❄ ❄ ❄ ❄ ⭐ ❄ ❄ ⭐ ❄ ❄ ⍣ ❄ \n",
            "          ❄ ❄ ❄ ❄ ❄ ❄ ❄ ❄ ❄ ❄ ❄ ⍣ ❄ ❄ ❄ ❄ ❄ ❄ ❄ ⭐ ❄ ⍣ ⭐ ❄ ❄ ❄ ❄ ❄ ❄ ❄ ⭐ ⍣ ❄ ❄ ❄ \n",
            "        ❄ ❄ ⍣ 🌠 ❄ ❄ ❄ ❄ ❄ ❄ ❄ ❄ ❄ ⍣ ❄ ❄ ❄ ❄ ❄ ❄ ❄ ❄ ❄ ❄ ❄ ❄ ❄ ❄ ❄ ❄ ❄ ❄ ❄ ❄ ❄ ❄ ⭐ \n",
            "      ❄ ❄ ❄ ❄ ❄ ⭐ ❄ ❄ ❄ ❄ ⍣ ❄ ❄ ❄ ❄ ❄ ❄ ❄ ⭐ ❄ ⭐ ❄ ❄ ❄ ⭐ ❄ ❄ ❄ ⭐ ❄ ❄ ❄ 🌠 ❄ ❄ ❄ ❄ ❄ ❄ \n",
            "    ⭐ ❄ ❄ ❄ ❄ ❄ ❄ ❄ ⍣ ❄ ❄ ❄ ❄ ❄ ❄ ❄ ❄ ❄ ❄ ❄ ❄ ❄ ❄ ❄ ❄ ❄ ❄ ❄ ⍣ ❄ ⭐ ❄ ❄ ⭐ ❄ ❄ ❄ ❄ ❄ ❄ ❄ \n",
            "  ❄ ⍣ ❄ ❄ ❄ ❄ ❄ ❄ ❄ ❄ ❄ ❄ ❄ ❄ ❄ ⍣ ❄ ❄ ❄ 🌠 ⍣ ❄ ❄ ❄ ❄ ❄ ❄ ❄ ❄ ❄ ❄ ❄ ❄ ❄ ❄ ❄ 🌠 ❄ ❄ ❄ ⭐ ❄ ❄ \n",
            "                                      ||||||||||||\n",
            "                                      ||||||||||||\n",
            "                                      ||||||||||||\n",
            "                                      ||||||||||||\n",
            "                                      ||||||||||||\n",
            "                                      ||||||||||||\n",
            "                                      ||||||||||||\n"
          ],
          "name": "stdout"
        }
      ]
    }
  ]
}